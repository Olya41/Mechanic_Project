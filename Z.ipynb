{
  "nbformat": 4,
  "nbformat_minor": 0,
  "metadata": {
    "colab": {
      "provenance": [],
      "authorship_tag": "ABX9TyORKZgYW1/+XTDztXoA2rhs",
      "include_colab_link": true
    },
    "kernelspec": {
      "name": "python3",
      "display_name": "Python 3"
    },
    "language_info": {
      "name": "python"
    }
  },
  "cells": [
    {
      "cell_type": "markdown",
      "metadata": {
        "id": "view-in-github",
        "colab_type": "text"
      },
      "source": [
        "<a href=\"https://colab.research.google.com/github/ZhizhchenkoA/Mechanic_Project/blob/main/Z.ipynb\" target=\"_parent\"><img src=\"https://colab.research.google.com/assets/colab-badge.svg\" alt=\"Open In Colab\"/></a>"
      ]
    },
    {
      "cell_type": "code",
      "execution_count": 14,
      "metadata": {
        "id": "OPpXkM0T-Kbf"
      },
      "outputs": [],
      "source": [
        "import numpy as np\n",
        "import matplotlib.pyplot as plt\n",
        "from tqdm import tqdm"
      ]
    },
    {
      "cell_type": "code",
      "source": [
        "mu = 0.2\n",
        "def f(x, y):\n",
        "  r1 = ((x + mu) ** 2 + y ** 2) ** 0.5\n",
        "  r2 = ((x - 1 + mu) ** 2 + y ** 2) ** 0.5\n",
        "  return x ** 2 + y ** 2 + (1 - mu) / r1 + mu / r2 + ((1 - mu) * mu) / 2"
      ],
      "metadata": {
        "id": "mRt8Teb6-aHg"
      },
      "execution_count": 15,
      "outputs": []
    },
    {
      "cell_type": "code",
      "source": [
        "lim_x_min, lim_x_max = -2, 2\n",
        "step_x = 0.01\n",
        "lim_y_min, lim_y_max = -2, 2\n",
        "step_y = 0.01\n",
        "mx = np.arange(lim_x_min, lim_x_max, step_x)\n",
        "my = np.arange(lim_y_min, lim_y_max, step_y)\n",
        "ans_x = np.array([])\n",
        "ans_y = np.array([])\n",
        "\n",
        "epsilon = 0\n",
        "\n",
        "for x in tqdm(mx):\n",
        "  for y in my:\n",
        "    # if (f(x, y) > max(f(x - step_x, y - step_y), f(x - step_x, y + step_y), f(x + step_x, y - step_y), \\\n",
        "    #     f(x + step_x, y + step_y))):\n",
        "    #   print(x, y, \"max\")\n",
        "    # if (f(x, y) < min(f(x - step_x, y - step_y), f(x - step_x, y + step_y), f(x + step_x, y - step_y), \\\n",
        "    #     f(x + step_x, y + step_y))):\n",
        "    #   print(x, y, \"min\")\n",
        "    if (f(x, y) - f(x - step_x, y)) * (f(x + step_x, y) - f(x, y)) < epsilon and \\\n",
        "     (f(x, y) - f(x, y - step_y)) * (f(x, y + step_y) - f(x, y)) < epsilon:\n",
        "     ans_x = np.append(ans_x, x)\n",
        "     ans_y = np.append(ans_y, y)\n",
        "      # ans += np.array([x, y])\n",
        "\n",
        "# print(ans_x)\n",
        "# print(ans_y)\n",
        "m = [[0] * 2 for _ in range(len(ans_x))]\n",
        "for i in range(len(ans_x)):\n",
        "  m[i][0] = ans_x[i]\n",
        "  m[i][1] = ans_y[i]\n",
        "\n",
        "# plt.scatter(ans_x, ans_y)\n",
        "ans = np.array(m)\n",
        "print(*ans, sep='\\n')\n",
        "plt.imshow(ans)\n",
        "# plt.show()\n",
        "\n",
        ""
      ],
      "metadata": {
        "colab": {
          "base_uri": "https://localhost:8080/",
          "height": 591
        },
        "id": "qjYYQWXp_eM4",
        "outputId": "498cbb23-369a-4496-c82e-067ba20cadf4"
      },
      "execution_count": 22,
      "outputs": [
        {
          "output_type": "stream",
          "name": "stderr",
          "text": [
            "100%|██████████| 400/400 [00:01<00:00, 220.58it/s]"
          ]
        },
        {
          "output_type": "stream",
          "name": "stdout",
          "text": [
            "[-8.90000000e-01  1.77635684e-15]\n",
            "[-2.00000000e-01  1.77635684e-15]\n",
            "[ 0.3  -0.62]\n",
            "[0.3  0.62]\n",
            "[4.10000000e-01 1.77635684e-15]\n",
            "[8.00000000e-01 1.77635684e-15]\n",
            "[1.13000000e+00 1.77635684e-15]\n"
          ]
        },
        {
          "output_type": "stream",
          "name": "stderr",
          "text": [
            "\n"
          ]
        },
        {
          "output_type": "execute_result",
          "data": {
            "text/plain": [
              "<matplotlib.image.AxesImage at 0x7f3a0eb674c0>"
            ]
          },
          "metadata": {},
          "execution_count": 22
        },
        {
          "output_type": "display_data",
          "data": {
            "text/plain": [
              "<Figure size 640x480 with 1 Axes>"
            ],
            "image/png": "[encoded data removed]"
          },
          "metadata": {}
        }
      ]
    }
  ]
}