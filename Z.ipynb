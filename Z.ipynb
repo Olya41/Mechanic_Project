{
  "nbformat": 4,
  "nbformat_minor": 0,
  "metadata": {
    "colab": {
      "provenance": [],
      "authorship_tag": "ABX9TyO8aT+YKmqq4LZShn0G/HYE",
      "include_colab_link": true
    },
    "kernelspec": {
      "name": "python3",
      "display_name": "Python 3"
    },
    "language_info": {
      "name": "python"
    }
  },
  "cells": [
    {
      "cell_type": "markdown",
      "metadata": {
        "id": "view-in-github",
        "colab_type": "text"
      },
      "source": [
        "<a href=\"https://colab.research.google.com/github/ZhizhchenkoA/Mechanic_Project/blob/main/Z.ipynb\" target=\"_parent\"><img src=\"https://colab.research.google.com/assets/colab-badge.svg\" alt=\"Open In Colab\"/></a>"
      ]
    },
    {
      "cell_type": "code",
      "execution_count": null,
      "metadata": {
        "id": "dUrDDg0EbGx3"
      },
      "outputs": [],
      "source": [
        "import numpy as np\n",
        "import matplotlib.pyplot as plt\n",
        "from tqdm import tqdm"
      ]
    },
    {
      "cell_type": "code",
      "source": [
        "mu = 0.1\n",
        "def f(x, y):\n",
        "  r1 = ((x + mu) ** 2 + y ** 2) ** 0.5\n",
        "  r2 = ((x - 1 + mu) ** 2 + y ** 2) ** 0.5\n",
        "  return x ** 2 + y ** 2 + (1 - mu) / r1 + mu / r2 + ((1 - mu) * mu) / 2"
      ],
      "metadata": {
        "id": "dfoRrtq5bZrR"
      },
      "execution_count": null,
      "outputs": []
    },
    {
      "cell_type": "code",
      "source": [
        "lim_x_min, lim_x_max = -1.5, 1.5\n",
        "step_x = 0.01\n",
        "lim_y_min, lim_y_max = -1.5, 1.5\n",
        "step_y = 0.01\n",
        "mx = np.arange(lim_x_min, lim_x_max, step_x)\n",
        "my = np.arange(lim_y_min, lim_y_max, step_y)\n",
        "ans_x, ans_y = np.array([]), np.array([])\n",
        "xg, yg = [], []\n",
        "epsilon = 8e-5\n",
        "for x in tqdm(mx):\n",
        "  for y in my:\n",
        "    if (f(x, y) - f(x - step_x, y)) * (f(x + step_x, y) - f(x, y)) < epsilon and \\\n",
        "     (f(x, y) - f(x, y - step_y)) * (f(x, y + step_y) - f(x, y)) < epsilon:\n",
        "        ans_x = np.append(ans_x, x)\n",
        "        ans_y = np.append(ans_y, y)\n",
        "        xg.append(int((lim_x_min + x) * (1 / step_x)))\n",
        "        yg.append(int((lim_y_min + y) * (1 / step_y)))\n",
        "k = int((lim_x_max - lim_x_min) / step_x)\n",
        "arr = np.zeros((k, k))\n",
        "arr[yg, xg] = 1\n",
        "plt.imshow(arr)\n",
        "plt.show()"
      ],
      "metadata": {
        "colab": {
          "base_uri": "https://localhost:8080/",
          "height": 453
        },
        "id": "qKNnMA1abcpK",
        "outputId": "b06acd2a-5506-4295-81a4-a0963002049b"
      },
      "execution_count": null,
      "outputs": [
        {
          "output_type": "stream",
          "name": "stderr",
          "text": [
            "100%|██████████| 300/300 [00:01<00:00, 169.08it/s]\n"
          ]
        },
        {
          "output_type": "display_data",
          "data": {
            "text/plain": [
              "<Figure size 640x480 with 1 Axes>"
            ],
            "image/png": "[encoded data removed]"
          },
          "metadata": {}
        }
      ]
    },
    {
      "cell_type": "code",
      "source": [
        "def x_dot(x, y, px, py):\n",
        "  ...\n",
        "\n",
        "def y_dot(x, y, px, py):\n",
        "  ...\n",
        "\n",
        "def px_dot(x, y, px, py):\n",
        "  ...\n",
        "\n",
        "def py_dot(x, y, px, py):\n",
        "  ..."
      ],
      "metadata": {
        "id": "w4zR5k7Rdsqi"
      },
      "execution_count": 3,
      "outputs": []
    },
    {
      "cell_type": "code",
      "source": [
        "x = 0\n",
        "y = 0\n",
        "px = 0\n",
        "py = 0\n",
        "delta_t = 0.1\n",
        "t_summ = 10\n",
        "X, Y, PX, PY = [x], [y], [px], [py]\n",
        "for i in range(1, t_summ + 1):\n",
        "  X.append[X[-1] + x_dot(x, y, px, py) * delta_t]\n",
        "  Y.append[Y[-1] + y_dot(x, y, px, py) * delta_t]\n",
        "  PX.append[PX[-1] + px_dot(x, y, px, py) * delta_t]\n",
        "  PY.append[PY[-1] + py_dot(x, y, px, py) * delta_t]\n",
        "  x = X[-1]\n",
        "  y = Y[-1]\n",
        "  px = PX[-1]\n",
        "  py = PY[-1]\n",
        "\n",
        "\n"
      ],
      "metadata": {
        "id": "kq-kDqnFeU-i"
      },
      "execution_count": 5,
      "outputs": []
    }
  ]
}