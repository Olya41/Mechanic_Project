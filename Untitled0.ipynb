{
  "nbformat": 4,
  "nbformat_minor": 0,
  "metadata": {
    "colab": {
      "provenance": []
    },
    "kernelspec": {
      "name": "python3",
      "display_name": "Python 3"
    },
    "language_info": {
      "name": "python"
    }
  },
  "cells": [
    {
      "cell_type": "code",
      "execution_count": 40,
      "metadata": {
        "id": "OPpXkM0T-Kbf"
      },
      "outputs": [],
      "source": [
        "import numpy as np\n",
        "import matplotlib.pyplot as plt\n",
        "from tqdm import tqdm"
      ]
    },
    {
      "cell_type": "code",
      "source": [
        "mu = 0.2\n",
        "def f(x, y):\n",
        "  r1 = ((x + mu) ** 2 + y ** 2) ** 0.5\n",
        "  r2 = ((x - 1 + mu) ** 2 + y ** 2) ** 0.5\n",
        "  return x ** 2 + y ** 2 + (1 - mu) / r1 + mu / r2 + ((1 - mu) * mu) / 2"
      ],
      "metadata": {
        "id": "mRt8Teb6-aHg"
      },
      "execution_count": 60,
      "outputs": []
    },
    {
      "cell_type": "code",
      "source": [
        "lim_x_min, lim_x_max = -2, 2\n",
        "step_x = 0.01\n",
        "lim_y_min, lim_y_max = -2, 2\n",
        "step_y = 0.01\n",
        "mx = np.arange(lim_x_min, lim_x_max, step_x)\n",
        "my = np.arange(lim_y_min, lim_y_max, step_y)\n",
        "# ans_x = np.array([])\n",
        "# ans_y = np.array([])\n",
        "ans = np.empty((2, ), float)\n",
        "epsilon = 0\n",
        "\n",
        "for x in tqdm(mx):\n",
        "  for y in my:\n",
        "    # if (f(x, y) > max(f(x - step_x, y - step_y), f(x - step_x, y + step_y), f(x + step_x, y - step_y), \\\n",
        "    #     f(x + step_x, y + step_y))):\n",
        "    #   print(x, y, \"max\")\n",
        "    # if (f(x, y) < min(f(x - step_x, y - step_y), f(x - step_x, y + step_y), f(x + step_x, y - step_y), \\\n",
        "    #     f(x + step_x, y + step_y))):\n",
        "    #   print(x, y, \"min\")\n",
        "    if (f(x, y) - f(x - step_x, y)) * (f(x + step_x, y) - f(x, y)) < epsilon and \\\n",
        "     (f(x, y) - f(x, y - step_y)) * (f(x, y + step_y) - f(x, y)) < epsilon:\n",
        "    #  ans_x = np.append(ans_x, x)\n",
        "    #  ans_y = np.append(ans_y, y)\n",
        "      ans = ans.append(ans, np.array([x, y]))\n",
        "#print(ans_x)\n",
        "#print(ans_y)\n",
        "# plt.scatter(ans_x, ans_y)\n",
        "plt.imshow(ans)\n",
        "# plt.show()\n",
        "\n",
        ""
      ],
      "metadata": {
        "colab": {
          "base_uri": "https://localhost:8080/",
          "height": 259
        },
        "id": "qjYYQWXp_eM4",
        "outputId": "5da31edc-2448-43f6-a717-5770a4491cf5"
      },
      "execution_count": 68,
      "outputs": [
        {
          "output_type": "stream",
          "name": "stderr",
          "text": [
            " 28%|██▊       | 111/400 [00:00<00:01, 161.24it/s]\n"
          ]
        },
        {
          "output_type": "error",
          "ename": "AttributeError",
          "evalue": "ignored",
          "traceback": [
            "\u001b[0;31m---------------------------------------------------------------------------\u001b[0m",
            "\u001b[0;31mAttributeError\u001b[0m                            Traceback (most recent call last)",
            "\u001b[0;32m<ipython-input-68-e98b3a25c7ed>\u001b[0m in \u001b[0;36m<cell line: 12>\u001b[0;34m()\u001b[0m\n\u001b[1;32m     22\u001b[0m     \u001b[0;31m#  ans_x = np.append(ans_x, x)\u001b[0m\u001b[0;34m\u001b[0m\u001b[0;34m\u001b[0m\u001b[0m\n\u001b[1;32m     23\u001b[0m     \u001b[0;31m#  ans_y = np.append(ans_y, y)\u001b[0m\u001b[0;34m\u001b[0m\u001b[0;34m\u001b[0m\u001b[0m\n\u001b[0;32m---> 24\u001b[0;31m       \u001b[0mans\u001b[0m \u001b[0;34m=\u001b[0m \u001b[0mans\u001b[0m\u001b[0;34m.\u001b[0m\u001b[0mappend\u001b[0m\u001b[0;34m(\u001b[0m\u001b[0mans\u001b[0m\u001b[0;34m,\u001b[0m \u001b[0mnp\u001b[0m\u001b[0;34m.\u001b[0m\u001b[0marray\u001b[0m\u001b[0;34m(\u001b[0m\u001b[0;34m[\u001b[0m\u001b[0mx\u001b[0m\u001b[0;34m,\u001b[0m \u001b[0my\u001b[0m\u001b[0;34m]\u001b[0m\u001b[0;34m)\u001b[0m\u001b[0;34m)\u001b[0m\u001b[0;34m\u001b[0m\u001b[0;34m\u001b[0m\u001b[0m\n\u001b[0m\u001b[1;32m     25\u001b[0m \u001b[0;31m#print(ans_x)\u001b[0m\u001b[0;34m\u001b[0m\u001b[0;34m\u001b[0m\u001b[0m\n\u001b[1;32m     26\u001b[0m \u001b[0;31m#print(ans_y)\u001b[0m\u001b[0;34m\u001b[0m\u001b[0;34m\u001b[0m\u001b[0m\n",
            "\u001b[0;31mAttributeError\u001b[0m: 'numpy.ndarray' object has no attribute 'append'"
          ]
        }
      ]
    }
  ]
}